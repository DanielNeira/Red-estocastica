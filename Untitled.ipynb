{
 "cells": [
  {
   "cell_type": "code",
   "execution_count": 9,
   "metadata": {
    "collapsed": true
   },
   "outputs": [],
   "source": [
    "import random\n",
    "import matplotlib.pyplot as plt\n",
    "import simpy\n",
    "import networkx as nx  \n",
    "import numpy as np"
   ]
  },
  {
   "cell_type": "code",
   "execution_count": 2,
   "metadata": {
    "collapsed": true
   },
   "outputs": [],
   "source": [
    "class ActivityProcess(object):\n",
    "    def __init__(self, env, name):\n",
    "        self.env = env\n",
    "        self.name = name\n",
    "        \n",
    "    def waitup(self,node, myEvent):\n",
    "        # PEM illustrating \"waitevent\"# wait for \"myEvent\" to occur\n",
    "        evnt = [e.event for e in myEvent]\n",
    "        yield self.env.all_of(evnt)\n",
    "        print(\"The activating event(s) were %s\" %([x.name for x in myEvent]))\n",
    "        tis = random.expovariate(1.0)\n",
    "        yield self.env.timeout(tis)\n",
    "        finishtime = self.env.now\n",
    "        if finishtime > SANglobal.finishtime:\n",
    "            SANglobal.finishtime = finishtime\n",
    "        SANglobal.F.nodecomplete[node].event.succeed()"
   ]
  },
  {
   "cell_type": "code",
   "execution_count": 3,
   "metadata": {
    "collapsed": true
   },
   "outputs": [],
   "source": [
    "class StartSignaller(object):\n",
    "    # here we just schedule some events to fire\n",
    "    def __init__(self, env, name,sEvent):\n",
    "        self.env = env\n",
    "        self.name = name\n",
    "        self.sEvent = sEvent\n",
    "        self.env.process(self.startSignals())\n",
    "        \n",
    "    def startSignals(self):\n",
    "        yield self.env.timeout(0)\n",
    "        self.sEvent.event.succeed()"
   ]
  },
  {
   "cell_type": "code",
   "execution_count": 4,
   "metadata": {
    "collapsed": true
   },
   "outputs": [],
   "source": [
    "class CustomEvent(object):\n",
    "    def __init__(self,env, name):\n",
    "        self.name = name\n",
    "        self.env = env\n",
    "        self.event = self.env.event()        "
   ]
  },
  {
   "cell_type": "code",
   "execution_count": 5,
   "metadata": {
    "collapsed": true
   },
   "outputs": [],
   "source": [
    "class SANglobal:\n",
    "    F = nx.DiGraph()\n",
    "    a = 0\n",
    "    b = 1\n",
    "    c = 2\n",
    "    d = 3\n",
    "    inTo = 0\n",
    "    F.add_nodes_from([a, b, c, d])\n",
    "    F.add_edges_from([(a,b), (a,c), (b,c), (b,d), (c,d)])\n",
    "    finishtime = 0\n",
    "     {}"
   ]
  },
  {
   "cell_type": "code",
   "execution_count": 8,
   "metadata": {},
   "outputs": [
    {
     "name": "stdout",
     "output_type": "stream",
     "text": [
      "The activating event(s) were ['Start']\n",
      "The activating event(s) were ['Complete0']\n",
      "The activating event(s) were ['Complete0', 'Complete1']\n",
      "The activating event(s) were ['Complete1', 'Complete2']\n",
      "The activating event(s) were ['Start']\n",
      "The activating event(s) were ['Complete0']\n",
      "The activating event(s) were ['Complete0', 'Complete1']\n",
      "The activating event(s) were ['Complete1', 'Complete2']\n"
     ]
    },
    {
     "data": {
      "image/png": "[encoded data removed]",
      "text/plain": [
       "<Figure size 432x288 with 1 Axes>"
      ]
     },
     "metadata": {},
     "output_type": "display_data"
    },
    {
     "data": {
      "image/png": "[encoded data removed]",
      "text/plain": [
       "<Figure size 432x288 with 1 Axes>"
      ]
     },
     "metadata": {},
     "output_type": "display_data"
    }
   ],
   "source": [
    "finishtimes = []\n",
    "for rep in range(2):\n",
    "    SANglobal.finishtime = 0\n",
    "    env = simpy.Environment()\n",
    "    SANglobal.F.nodecomplete= []\n",
    "    for i in range(len(SANglobal.F.nodes())):\n",
    "        eventname = 'Complete%1d' % i\n",
    "        SANglobal.F.nodecomplete.append(CustomEvent(env,eventname))\n",
    "    #SANglobal.F.nodecomplete\n",
    "\n",
    "    activitynode = []\n",
    "    for i in range(len(SANglobal.F.nodes())):\n",
    "        activityname = 'Activity%1d' % i\n",
    "        activitynode.append(ActivityProcess(env,activityname))\n",
    "        \n",
    "    for i in range(len(SANglobal.F.nodes())):\n",
    "        if i is not SANglobal.inTo:\n",
    "            prenodes = SANglobal.F.predecessors(i)\n",
    "            preevents = [SANglobal.F.nodecomplete[j] for j in prenodes]\n",
    "            env.process(activitynode[i].waitup(i,preevents))\n",
    "            \n",
    "    startevent = CustomEvent(env,'Start')\n",
    "    sstart = StartSignaller(env,'Signal',startevent).startSignals()\n",
    "    env.process(activitynode[SANglobal.inTo].waitup(SANglobal.inTo, [startevent]))\n",
    "    \n",
    "    env.run(until=50)\n",
    "    finishtimes.append(SANglobal.finishtime)\n",
    "\n",
    "plt.hist(finishtimes, bins = 30, density = True, cumulative=True)  \n",
    "plt.show()\n",
    "plt.hist(finishtimes, bins = 30, density = True, cumulative=False) \n",
    "plt.show()"
   ]
  },
  {
   "cell_type": "code",
   "execution_count": null,
   "metadata": {
    "collapsed": true
   },
   "outputs": [],
   "source": []
  }
 ],
 "metadata": {
  "kernelspec": {
   "display_name": "Python [conda env:py35]",
   "language": "python",
   "name": "conda-env-py35-py"
  },
  "language_info": {
   "codemirror_mode": {
    "name": "ipython",
    "version": 3
   },
   "file_extension": ".py",
   "mimetype": "text/x-python",
   "name": "python",
   "nbconvert_exporter": "python",
   "pygments_lexer": "ipython3",
   "version": "3.5.5"
  }
 },
 "nbformat": 4,
 "nbformat_minor": 2
}
