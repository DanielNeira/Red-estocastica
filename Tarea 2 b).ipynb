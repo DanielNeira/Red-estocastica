{
 "cells": [
  {
   "cell_type": "markdown",
   "metadata": {},
   "source": [
    "# Tarea 2\n",
    "## b)\n"
   ]
  },
  {
   "cell_type": "code",
   "execution_count": 46,
   "metadata": {
    "collapsed": true
   },
   "outputs": [],
   "source": [
    "import random\n",
    "import matplotlib.pyplot as plt\n",
    "import simpy\n",
    "import networkx as nx  \n",
    "import numpy as np\n",
    "from scipy.stats import poisson\n",
    "from Norta import Norta as Nt"
   ]
  },
  {
   "cell_type": "markdown",
   "metadata": {},
   "source": [
    "Primero tenemos la clase que define las actividades, utilizando métodos de simpy"
   ]
  },
  {
   "cell_type": "code",
   "execution_count": null,
   "metadata": {
    "collapsed": true
   },
   "outputs": [],
   "source": [
    "class ActivityProcess(object):\n",
    "    def __init__(self, env, name, observation = []):\n",
    "        self.env = env\n",
    "        self.name = name\n",
    "        self.distribution = observation\n",
    "        \n",
    "    def waitup(self, node, myEvent):\n",
    "        # PEM illustrating \"waitevent\"# wait for \"myEvent\" to occur\n",
    "        evnt = [e.event for e in myEvent]\n",
    "        yield self.env.all_of(evnt)\n",
    "        print(\"The activating event(s) were %s at time %f\" %([x.name for x in myEvent], self.env.now))\n",
    "        tis = self.generate_observation()\n",
    "        yield self.env.timeout(tis)\n",
    "        finishtime = self.env.now\n",
    "        if finishtime > SANglobal.finishtime:\n",
    "            SANglobal.finishtime = finishtime\n",
    "        SANglobal.F.nodecomplete[node].event.succeed()\n",
    "    \n",
    "    def generate_observation(self):\n",
    "        if observation != []:\n",
    "            return observation\n",
    "        else:\n",
    "            return random.expovariate(1.0)"
   ]
  },
  {
   "cell_type": "markdown",
   "metadata": {},
   "source": [
    "Clase para iniciar las señales"
   ]
  },
  {
   "cell_type": "code",
   "execution_count": 3,
   "metadata": {
    "collapsed": true
   },
   "outputs": [],
   "source": [
    "class StartSignaller(object):\n",
    "    # here we just schedule some events to fire\n",
    "    def __init__(self, env, name,sEvent):\n",
    "        self.env = env\n",
    "        self.name = name\n",
    "        self.sEvent = sEvent\n",
    "        self.env.process(self.startSignals())\n",
    "        \n",
    "    def startSignals(self):\n",
    "        yield self.env.timeout(0)\n",
    "        self.sEvent.event.succeed()"
   ]
  },
  {
   "cell_type": "markdown",
   "metadata": {},
   "source": [
    "Y la clase que define el evento"
   ]
  },
  {
   "cell_type": "code",
   "execution_count": 4,
   "metadata": {
    "collapsed": true
   },
   "outputs": [],
   "source": [
    "class CustomEvent(object):\n",
    "    def __init__(self,env, name):\n",
    "        self.name = name\n",
    "        self.env = env\n",
    "        self.event = self.env.event()        "
   ]
  },
  {
   "cell_type": "markdown",
   "metadata": {},
   "source": [
    "Y aca llamamos a Norta, que generará una observación para las actividades necesarias:"
   ]
  },
  {
   "cell_type": "code",
   "execution_count": 39,
   "metadata": {
    "collapsed": true
   },
   "outputs": [],
   "source": [
    "class Norta(object):\n",
    "    def __init__(self):\n",
    "        self.env = Nt()\n",
    "    \n",
    "    def set_marginal(self,distribution,params):\n",
    "        self.env.set_marginal(distribution, mu=15, sigma=1)\n",
    "    \n",
    "    def set_correlation_matrix(self,R):\n",
    "        self.env.set_corr_matrix(R)\n",
    "    \n",
    "    def generate_sample(self,m=1):\n",
    "        return self.env.generate_sample(1)"
   ]
  },
  {
   "cell_type": "markdown",
   "metadata": {},
   "source": [
    "Ahora tenemos la clase que contiene los elementos a analiza y guardar a la vez en networkx como grafo"
   ]
  },
  {
   "cell_type": "code",
   "execution_count": 37,
   "metadata": {},
   "outputs": [],
   "source": [
    "class SANglobal:\n",
    "    F = nx.DiGraph()\n",
    "    a = 0\n",
    "    b = 1\n",
    "    c = 2\n",
    "    d = 3\n",
    "    inTo = 0\n",
    "    F.add_nodes_from([a, b, c, d])\n",
    "    F.add_edges_from([(a,b), (a,c), (b,c), (b,d), (c,d)])\n",
    "    finishtime = 0\n",
    "    correlated = [{'vertice':(b,c),'corr':0.5}]\n",
    "    distribution = {b:{'func':'poisson','params': {'mu':1.0}}, #solo las distribuciones de las que estan correlacionadas\n",
    "                   c:{'func':'poisson','params': {'mu':1.0}}}"
   ]
  },
  {
   "cell_type": "code",
   "execution_count": 47,
   "metadata": {},
   "outputs": [
    {
     "name": "stdout",
     "output_type": "stream",
     "text": [
      "Poisson function successfully added\n",
      "Poisson function successfully added\n",
      "0.5\n",
      "Calculated correlataion:\n",
      " [[1.  0.5]\n",
      " [0.5 1. ]]\n",
      "[[15. 14.]]\n"
     ]
    }
   ],
   "source": [
    "Gen = Norta()\n",
    "for correlations in SANglobal.correlated:\n",
    "    for vertice in correlations['vertice']:\n",
    "        Gen.set_marginal(SANglobal.distribution[vertice]['func'],SANglobal.distribution[vertice]['params'])\n",
    "    R = [[1, correlations['corr']],[correlations['corr'], 1]] # sólo efectivo para 2 dimensiones\n",
    "    Gen.set_correlation_matrix(R)\n",
    "muestra = Gen.generate_sample() #va a tener dos dimensiones la primera de b, la segunda de c\n",
    "print(muestra)"
   ]
  },
  {
   "cell_type": "markdown",
   "metadata": {},
   "source": [
    "Podemos hechar un vistazo"
   ]
  },
  {
   "cell_type": "code",
   "execution_count": 16,
   "metadata": {},
   "outputs": [
    {
     "data": {
      "image/png": "[encoded data removed]",
      "text/plain": [
       "<Figure size 432x288 with 1 Axes>"
      ]
     },
     "metadata": {},
     "output_type": "display_data"
    }
   ],
   "source": [
    "nx.draw_networkx(SANglobal.F)\n",
    "plt.show()"
   ]
  },
  {
   "cell_type": "code",
   "execution_count": 22,
   "metadata": {},
   "outputs": [
    {
     "name": "stdout",
     "output_type": "stream",
     "text": [
      "yes\n"
     ]
    }
   ],
   "source": [
    "    R = [[1, corr],[corr, 1]]\n",
    "    Prueba.set_marginal('poisson', mu=1)\n",
    "    Prueba.set_marginal('poisson', mu=2)\n",
    "    sample_data = Prueba.generate_sample(1)\n",
    "\n",
    "#for i in range(len(SANglobal.F.nodes())):\n",
    "#    eventname = 'Complete %1d' % i\n",
    "#    SANglobal.F.nodecomplete.append(CustomEvent(env,eventname))\n",
    "if SANglobal.function['a']['params']:\n",
    "    print(\"yes\")"
   ]
  },
  {
   "cell_type": "code",
   "execution_count": 8,
   "metadata": {},
   "outputs": [
    {
     "name": "stdout",
     "output_type": "stream",
     "text": [
      "The activating event(s) were ['Start']\n",
      "The activating event(s) were ['Complete0']\n",
      "The activating event(s) were ['Complete0', 'Complete1']\n",
      "The activating event(s) were ['Complete1', 'Complete2']\n",
      "The activating event(s) were ['Start']\n",
      "The activating event(s) were ['Complete0']\n",
      "The activating event(s) were ['Complete0', 'Complete1']\n",
      "The activating event(s) were ['Complete1', 'Complete2']\n"
     ]
    },
    {
     "data": {
      "image/png": "[encoded data removed]",
      "text/plain": [
       "<Figure size 432x288 with 1 Axes>"
      ]
     },
     "metadata": {},
     "output_type": "display_data"
    },
    {
     "data": {
      "image/png": "[encoded data removed]",
      "text/plain": [
       "<Figure size 432x288 with 1 Axes>"
      ]
     },
     "metadata": {},
     "output_type": "display_data"
    }
   ],
   "source": [
    "finishtimes = [] #el contenedor de los tiempos de término\n",
    "for rep in range(2):\n",
    "    SANglobal.finishtime = 0 #El tiempo de termino es inicializado\n",
    "    env = simpy.Environment() #El ambiente es activado\n",
    "    \n",
    "    SANglobal.F.nodecomplete= [] #Las actividades que se van completando quedan aca\n",
    "    for i in range(len(SANglobal.F.nodes())):\n",
    "        eventname = 'Complete %1d' % i\n",
    "        SANglobal.F.nodecomplete.append(CustomEvent(env,eventname))\n",
    "    #SANglobal.F.nodecomplete\n",
    "    \n",
    "    #Creo las observaciones para las actividades correlacionadas\n",
    "    Gen = Norta()\n",
    "    for correlations in SANglobal.F.correlated:\n",
    "        for vertice in correlations['vertice']:\n",
    "            Gen.set_marginal(SANglobal.F.distribution[vertice]['func'],SANglobal.F.distribution[vertice]['params'])\n",
    "        R = [[1, correlations['corr']],[correlations['corr'], 1]] # sólo efectivo para 2 dimensiones\n",
    "        Gen.set_correlation_matrix(R)\n",
    "    muestra = Gen.generate_sample() #va a tener dos dimensiones la primera de b, la segunda de c\n",
    "    \n",
    "    activitynode = []\n",
    "    for i in range(len(SANglobal.F.nodes())):\n",
    "        activityname = 'Activity %1d' % i\n",
    "        activitynode.append(ActivityProcess(env,activityname))\n",
    "        \n",
    "    for i in range(len(SANglobal.F.nodes())):\n",
    "        if i is not SANglobal.inTo:\n",
    "            prenodes = SANglobal.F.predecessors(i)\n",
    "            preevents = [SANglobal.F.nodecomplete[j] for j in prenodes]\n",
    "            env.process(activitynode[i].waitup(i,preevents))\n",
    "            \n",
    "    startevent = CustomEvent(env,'Start')\n",
    "    sstart = StartSignaller(env,'Signal',startevent).startSignals()\n",
    "    env.process(activitynode[SANglobal.inTo].waitup(SANglobal.inTo, [startevent]))\n",
    "    \n",
    "    env.run(until=50)\n",
    "    finishtimes.append(SANglobal.finishtime)\n",
    "\n",
    "plt.hist(finishtimes, bins = 30, density = True, cumulative=True)  \n",
    "plt.show()\n",
    "plt.hist(finishtimes, bins = 30, density = True, cumulative=False) \n",
    "plt.show()"
   ]
  },
  {
   "cell_type": "code",
   "execution_count": null,
   "metadata": {
    "collapsed": true
   },
   "outputs": [],
   "source": []
  }
 ],
 "metadata": {
  "kernelspec": {
   "display_name": "Python [conda env:py35]",
   "language": "python",
   "name": "conda-env-py35-py"
  },
  "language_info": {
   "codemirror_mode": {
    "name": "ipython",
    "version": 3
   },
   "file_extension": ".py",
   "mimetype": "text/x-python",
   "name": "python",
   "nbconvert_exporter": "python",
   "pygments_lexer": "ipython3",
   "version": "3.5.5"
  }
 },
 "nbformat": 4,
 "nbformat_minor": 2
}
